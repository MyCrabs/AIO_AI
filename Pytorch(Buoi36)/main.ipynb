{
 "cells": [
  {
   "cell_type": "code",
   "execution_count": 3,
   "id": "2581c61c",
   "metadata": {},
   "outputs": [
    {
     "name": "stdout",
     "output_type": "stream",
     "text": [
      "vector: tensor([0., 0., 0.])\n",
      "Matrix2D: tensor([[1., 1., 1.],\n",
      "        [1., 1., 1.]])\n",
      "Matrix3D: tensor([[[0.2236, 0.6958, 0.0632],\n",
      "         [0.3693, 0.2073, 0.0523]],\n",
      "\n",
      "        [[0.9049, 0.9042, 0.1492],\n",
      "         [0.6319, 0.1682, 0.6204]]])\n"
     ]
    }
   ],
   "source": [
    "import torch\n",
    "vector = torch.zeros(3)\n",
    "print(f\"vector: {vector}\")\n",
    "matrix2D = torch.ones(2,3)\n",
    "print(f\"Matrix2D: {matrix2D}\")\n",
    "matrix3D = torch.rand(2,2,3)\n",
    "print(f\"Matrix3D: {matrix3D}\")"
   ]
  },
  {
   "cell_type": "markdown",
   "id": "c0cb22f2",
   "metadata": {},
   "source": [
    "#### `checksize`"
   ]
  },
  {
   "cell_type": "code",
   "execution_count": 5,
   "id": "c8c40a58",
   "metadata": {},
   "outputs": [
    {
     "data": {
      "text/plain": [
       "torch.float32"
      ]
     },
     "execution_count": 5,
     "metadata": {},
     "output_type": "execute_result"
    }
   ],
   "source": [
    "# Check size, datatype\n",
    "matrix3D.size()\n",
    "matrix3D.dtype"
   ]
  },
  {
   "cell_type": "markdown",
   "id": "5fb7faba",
   "metadata": {},
   "source": [
    "#### `II - requires_grad argument`\n",
    "Tham số này cho biết tensor cần được tính đạo hàm - Đây là 1 bước quan trọng trong quá trình trainning model"
   ]
  },
  {
   "cell_type": "code",
   "execution_count": 7,
   "id": "1efe64af",
   "metadata": {},
   "outputs": [
    {
     "data": {
      "text/plain": [
       "tensor([6., 9.], requires_grad=True)"
      ]
     },
     "execution_count": 7,
     "metadata": {},
     "output_type": "execute_result"
    }
   ],
   "source": [
    "x = torch.tensor([6., 9.], requires_grad=True)\n",
    "x"
   ]
  },
  {
   "cell_type": "code",
   "execution_count": null,
   "id": "71c6363d",
   "metadata": {},
   "outputs": [],
   "source": []
  }
 ],
 "metadata": {
  "kernelspec": {
   "display_name": "Python 3",
   "language": "python",
   "name": "python3"
  },
  "language_info": {
   "codemirror_mode": {
    "name": "ipython",
    "version": 3
   },
   "file_extension": ".py",
   "mimetype": "text/x-python",
   "name": "python",
   "nbconvert_exporter": "python",
   "pygments_lexer": "ipython3",
   "version": "3.11.5"
  }
 },
 "nbformat": 4,
 "nbformat_minor": 5
}
