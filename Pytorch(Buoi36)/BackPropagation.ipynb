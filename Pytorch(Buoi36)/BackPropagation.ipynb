{
 "cells": [
  {
   "cell_type": "markdown",
   "id": "a85e4a97",
   "metadata": {},
   "source": [
    "## `Tính toán lan truyền ngược`"
   ]
  },
  {
   "cell_type": "markdown",
   "id": "4b209758",
   "metadata": {},
   "source": []
  }
 ],
 "metadata": {
  "language_info": {
   "name": "python"
  }
 },
 "nbformat": 4,
 "nbformat_minor": 5
}
